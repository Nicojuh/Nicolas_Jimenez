{
  "metadata": {
    "kernelspec": {
      "name": "python",
      "display_name": "Python (Pyodide)",
      "language": "python"
    },
    "language_info": {
      "codemirror_mode": {
        "name": "python",
        "version": 3
      },
      "file_extension": ".py",
      "mimetype": "text/x-python",
      "name": "python",
      "nbconvert_exporter": "python",
      "pygments_lexer": "ipython3",
      "version": "3.8"
    }
  },
  "nbformat_minor": 4,
  "nbformat": 4,
  "cells": [
    {
      "cell_type": "markdown",
      "source": "# Tools for Data Science",
      "metadata": {}
    },
    {
      "cell_type": "markdown",
      "source": "### In this notebook we will see data science languages, libraries, tools and some arithmetical procesess.",
      "metadata": {}
    },
    {
      "cell_type": "markdown",
      "source": "#### Data science languages:\n\n- R\n- Python\n- SQL\n- Java",
      "metadata": {}
    },
    {
      "cell_type": "markdown",
      "source": "#### Data science libraries:\n\n- Pandas\n- ggplot\n- Numpy",
      "metadata": {}
    },
    {
      "cell_type": "markdown",
      "source": "#### Some data science tools:\n\n|Data sience tools|\n|---|\n|RStudio|\n|Jupyter Lab|\n|Kubeflow|",
      "metadata": {}
    },
    {
      "cell_type": "markdown",
      "source": "#### Some arithmetic expressions will be presented below:",
      "metadata": {
        "jupyter": {
          "source_hidden": true
        }
      }
    },
    {
      "cell_type": "code",
      "source": "#This is  simple expression to multiply, add and substract\n\n(3*10)+2-15",
      "metadata": {
        "trusted": true
      },
      "outputs": [
        {
          "execution_count": 7,
          "output_type": "execute_result",
          "data": {
            "text/plain": "17"
          },
          "metadata": {}
        }
      ],
      "execution_count": 7
    },
    {
      "cell_type": "code",
      "source": "#This code trnasform minutes in hours\n\nMinutes = 300\nHours = Minutes/60\n\nprint(f\"{Minutes} minutes are {Hours} hours\")",
      "metadata": {
        "trusted": true
      },
      "outputs": [
        {
          "name": "stdout",
          "text": "300 minutes are 5.0 hours\n",
          "output_type": "stream"
        }
      ],
      "execution_count": 13
    },
    {
      "cell_type": "markdown",
      "source": "#### Objectives list:\n\n1. Learn data science tools\n2. Know how to works GitHub\n3. Use basic data science libraries in R",
      "metadata": {}
    },
    {
      "cell_type": "markdown",
      "source": "### **Author**\n\n**Nicolás Jiménez**",
      "metadata": {}
    }
  ]
}